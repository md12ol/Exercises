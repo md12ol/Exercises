{
 "nbformat": 4,
 "nbformat_minor": 0,
 "metadata": {
  "colab": {
   "provenance": []
  },
  "kernelspec": {
   "name": "python3",
   "display_name": "Python 3 (ipykernel)",
   "language": "python"
  },
  "language_info": {
   "name": "python"
  }
 },
 "cells": [
  {
   "metadata": {
    "id": "IJMw7V9ixNvP"
   },
   "cell_type": "markdown",
   "source": [
    "#Exercise 0\n",
    "\n",
    "For this exercise, we will do some basic work with vectors in Python.\n",
    "\n",
    "This can be done by using the NumPy package and the array object.\n",
    "It expects a list as input."
   ]
  },
  {
   "cell_type": "code",
   "metadata": {
    "id": "3BXYqupHxBnx"
   },
   "source": [
    "import numpy as np\n",
    "\n",
    "vec1 = np.array([3, 1])"
   ],
   "outputs": [],
   "execution_count": null
  },
  {
   "cell_type": "markdown",
   "source": [
    "Let's display this on a canvas using matplotlib."
   ],
   "metadata": {
    "id": "vurIHPa-xc2K"
   }
  },
  {
   "cell_type": "code",
   "source": [
    "import matplotlib.pyplot as plt\n",
    "\n",
    "\n",
    "def plot_vector(vec: np.array) -> None:\n",
    "    fig, ax = plt.subplots()\n",
    "    ax.set_xlim(-10, 10)\n",
    "    ax.set_ylim(-10, 10)\n",
    "    ax.quiver(0, 0, vec[0], vec[1], angles='xy', scale_units='xy', scale=1)\n",
    "    pass\n",
    "\n",
    "\n",
    "plot_vector(vec1)"
   ],
   "metadata": {
    "colab": {
     "base_uri": "https://localhost:8080/",
     "height": 435
    },
    "id": "z3Ouql8ixgbD",
    "outputId": "d48878cf-7f10-4758-de4f-680858967bd3"
   },
   "outputs": [],
   "execution_count": null
  },
  {
   "cell_type": "markdown",
   "source": [
    "Perfect! But if we want to plot multiple vectors it might be easier to modify the function a bit."
   ],
   "metadata": {
    "id": "1hgRhtxNyuKw"
   }
  },
  {
   "cell_type": "code",
   "source": [
    "def plot_vectors(vecs: list, colors: list = None) -> None:\n",
    "    fig, ax = plt.subplots()\n",
    "    ax.set_xlim(-10, 10)\n",
    "    ax.set_ylim(-10, 10)\n",
    "\n",
    "    # Too bad we can't use 'color: list=['black' for _ in range(len(vecs))' in the function definition\n",
    "    if colors is None:\n",
    "        colors = ['black' for _ in range(len(vecs))]\n",
    "        pass\n",
    "\n",
    "    for idx, vec in enumerate(vecs):\n",
    "        ax.quiver(0, 0, vec[0], vec[1], angles='xy', scale_units='xy', scale=1, color=colors[idx])\n",
    "        pass\n",
    "\n",
    "    pass\n",
    "\n",
    "\n",
    "vec2 = np.array([5, -1])\n",
    "\n",
    "plot_vectors([vec1, vec2], ['red', 'green'])"
   ],
   "metadata": {
    "colab": {
     "base_uri": "https://localhost:8080/",
     "height": 435
    },
    "id": "RZxGXfqnyUW5",
    "outputId": "dc79e5c2-63c2-4889-b529-00b000c065af"
   },
   "outputs": [],
   "execution_count": null
  },
  {
   "metadata": {},
   "cell_type": "markdown",
   "source": [
    "Cool!\n",
    "We now have a method which plots multiple vectors. Let's do something with this, but before we do let's learn a little.\n",
    "\n",
    "The position of a particle at time t can be represented as x(t) = (m, n) where m and n are some real values representing the x and y position of the particle at time t, respectively.\n",
    "\n",
    "The velocity of a particle at time t can be represented as v(t) = (m, n) where m and n are some real values representing the x and y velocities of the particle at time t, respectively. These m and n values are unrelated to the previous line.\n",
    "\n",
    "Finally, the acceleration of a particle at time t can be represented as a(t) = (m, n) where m and n are some real values representing the x and y accelerations of the particle at time t, respectively. These m and n values are unrelated to the previous two lines.\n",
    "\n",
    "The position, velocity, and acceleration of a particle are related to each other. Their relationship is as follows.\n",
    "\n",
    "x(t+1) = x(t) + v(t+1)\n",
    "\n",
    "v(t+1) = v(t) + a(t+1)\n",
    "\n",
    "This is a discrete system which means that these updates only happen in a step-wise fashion. In real life these would be continuous. It is our choice to update position and velocity using the velocity and acceleration at time t + 1, respectively.\n",
    "\n",
    "##Task\n",
    "\n",
    "Your task is to create a small python program that creates a series of vectors on a plot. These vectors will resemble the movements of a particle over time, that is each vector will start at position x(t) and end at position x(t+1). For simplicity, you can assume that the acceleration of the particle will be constant. Let the user set some global variables for the initial position and velocity of the particle as well as the acceleration and the number of time steps. It may be helpful to see https://matplotlib.org/stable/api/_as_gen/matplotlib.pyplot.quiver.html.\n",
    "\n",
    "Using the following:\n",
    "\n",
    "initial_position = np.array([0, 0])\n",
    "\n",
    "initial_velocity = np.array([1, 0.1])\n",
    "\n",
    "initial_acceleration = np.array([-0.1, 0.1])\n",
    "\n",
    "timesteps = 10\n",
    "\n",
    "Should result in this image:\n",
    "\n",
    "![image.png](attachment:d0273625-66c4-493f-ad0d-43eaa916066f.png)"
   ],
   "attachments": {
    "d0273625-66c4-493f-ad0d-43eaa916066f.png": {
     "image/png": "[encoded data removed]"
    }
   }
  }
 ]
}
